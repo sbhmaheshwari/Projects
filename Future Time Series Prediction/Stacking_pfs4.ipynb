{
 "cells": [
  {
   "cell_type": "code",
   "execution_count": 58,
   "metadata": {},
   "outputs": [],
   "source": [
    "import numpy as np\n",
    "import pandas as pd\n",
    "import itertools\n",
    "from sklearn.linear_model import LinearRegression\n",
    "import pickle"
   ]
  },
  {
   "cell_type": "code",
   "execution_count": 93,
   "metadata": {},
   "outputs": [],
   "source": [
    "def create_test_data(prediction, dict_cat):\n",
    "  trtv = pd.concat([dict_cat['train'], dict_cat['val']], axis = 0)\n",
    "  test_ids = dict_cat['test']['item_id'].isin(trtv['item_id']) & dict_cat['test']['shop_id'].isin(trtv['shop_id'])\n",
    "  prediction[~test_ids] = 0\n",
    "  return(prediction)"
   ]
  },
  {
   "cell_type": "code",
   "execution_count": 95,
   "metadata": {},
   "outputs": [],
   "source": [
    "def create_cv_sets2(months, data):\n",
    "    X_train = data.loc[~data['date_block_num'].isin(months+[34]),:].drop('cnt_shop_item', axis=1)\n",
    "    X_val = data.loc[data['date_block_num'].isin(months),:]\n",
    "    X_val, y_val = create_test(X_val)\n",
    "    X_test = data.loc[data['date_block_num'] == 34,:].drop('cnt_shop_item',axis=1)\n",
    "    y_train = data.loc[~data['date_block_num'].isin(months+[34]),'cnt_shop_item']\n",
    "    return(dict({'train': X_train, 'val': X_val, 'test': X_test, 'train_y': y_train, 'val_y': y_val}))"
   ]
  },
  {
   "cell_type": "code",
   "execution_count": 97,
   "metadata": {},
   "outputs": [],
   "source": [
    "def create_test(test):\n",
    "    test = test.loc[(test['shop_id'].isin(sales_test['shop_id']))&(test['item_id'].isin(sales_test['item_id'])),:].copy()\n",
    "    test_pred = test['cnt_shop_item'].copy()\n",
    "    test.drop('cnt_shop_item', axis = 1, inplace = True)\n",
    "    return(test, test_pred)"
   ]
  },
  {
   "cell_type": "code",
   "execution_count": 69,
   "metadata": {},
   "outputs": [],
   "source": [
    "sales_test = pd.read_csv(r'test.csv')"
   ]
  },
  {
   "cell_type": "code",
   "execution_count": 128,
   "metadata": {},
   "outputs": [],
   "source": [
    "path = 'Submission Time Series/Stacking/'\n",
    "models = ['lr','rf', 'xgboost', 'emb_nn', 'catboost']\n",
    "stack_train = []\n",
    "stack_test = []\n",
    "for model in models:\n",
    "    data_train = pd.read_csv(path+model+'_train_level2.csv', header = None)\n",
    "    data_test = pd.read_csv(path+model+'_test_level2.csv', header = None)\n",
    "    stack_train.append(data_train)\n",
    "    stack_test.append(data_test)\n",
    "stack_train = np.column_stack(stack_train)\n",
    "stack_test = np.column_stack(stack_test)"
   ]
  },
  {
   "cell_type": "code",
   "execution_count": 59,
   "metadata": {},
   "outputs": [],
   "source": [
    "with open(r\"full_data_2.pkl\", \"rb\") as input_file:\n",
    "    full_data = pickle.load(input_file)"
   ]
  },
  {
   "cell_type": "code",
   "execution_count": 98,
   "metadata": {},
   "outputs": [],
   "source": [
    "dict_cat = create_cv_sets2([9,21,33], full_data)"
   ]
  },
  {
   "cell_type": "code",
   "execution_count": 61,
   "metadata": {},
   "outputs": [],
   "source": [
    "stack_months = np.arange(28,34)\n",
    "stack_y = full_data.loc[full_data['date_block_num'].isin(stack_months),'cnt_shop_item']"
   ]
  },
  {
   "cell_type": "code",
   "execution_count": 142,
   "metadata": {},
   "outputs": [
    {
     "data": {
      "text/plain": [
       "array([[ 0.58789062,  0.56529513,  0.5542345 , ...,  0.13734591,\n",
       "        -0.50944463, -0.64679054],\n",
       "       [ 0.        ,  0.23633458,  0.12270784, ..., -0.0635494 ,\n",
       "        -0.08257721, -0.01902781],\n",
       "       [ 0.57226562,  0.6387954 ,  0.40862715, ..., -0.23421097,\n",
       "        -0.65940277, -0.4251918 ],\n",
       "       ...,\n",
       "       [ 0.        ,  0.06885622,  0.        , ..., -0.15011179,\n",
       "         0.        ,  0.15011179],\n",
       "       [ 0.        ,  0.07455094,  0.        , ..., -0.15158904,\n",
       "         0.        ,  0.15158904],\n",
       "       [ 0.        ,  0.28891951,  0.26694965, ...,  0.08030677,\n",
       "         0.15293559,  0.07262882]])"
      ]
     },
     "execution_count": 142,
     "metadata": {},
     "output_type": "execute_result"
    }
   ],
   "source": [
    "stack_test"
   ]
  },
  {
   "cell_type": "code",
   "execution_count": 63,
   "metadata": {},
   "outputs": [
    {
     "data": {
      "text/plain": [
       "(192351,)"
      ]
     },
     "execution_count": 63,
     "metadata": {},
     "output_type": "execute_result"
    }
   ],
   "source": [
    "stack_y.shape"
   ]
  },
  {
   "cell_type": "code",
   "execution_count": 129,
   "metadata": {},
   "outputs": [
    {
     "data": {
      "text/plain": [
       "(192351, 5)"
      ]
     },
     "execution_count": 129,
     "metadata": {},
     "output_type": "execute_result"
    }
   ],
   "source": [
    "stack_train.shape"
   ]
  },
  {
   "cell_type": "code",
   "execution_count": 130,
   "metadata": {},
   "outputs": [
    {
     "data": {
      "text/plain": [
       "(214200, 5)"
      ]
     },
     "execution_count": 130,
     "metadata": {},
     "output_type": "execute_result"
    }
   ],
   "source": [
    "stack_test.shape"
   ]
  },
  {
   "cell_type": "markdown",
   "metadata": {},
   "source": [
    "Calculate pairwise differences"
   ]
  },
  {
   "cell_type": "code",
   "execution_count": 131,
   "metadata": {},
   "outputs": [],
   "source": [
    "train_pair = []\n",
    "test_pair = []\n",
    "for i, j in itertools.combinations(range(stack_train.shape[1]), 2):\n",
    "    diff_train = stack_train[:,i]-stack_train[:,j]\n",
    "    diff_test = stack_test[:,i]-stack_test[:,j]\n",
    "    train_pair.append(diff_train)\n",
    "    test_pair.append(diff_test)\n",
    "train_pair = np.column_stack(train_pair)\n",
    "test_pair = np.column_stack(test_pair)"
   ]
  },
  {
   "cell_type": "code",
   "execution_count": 132,
   "metadata": {},
   "outputs": [
    {
     "data": {
      "text/plain": [
       "(192351, 10)"
      ]
     },
     "execution_count": 132,
     "metadata": {},
     "output_type": "execute_result"
    }
   ],
   "source": [
    "train_pair.shape"
   ]
  },
  {
   "cell_type": "code",
   "execution_count": 133,
   "metadata": {},
   "outputs": [
    {
     "data": {
      "text/plain": [
       "(214200, 10)"
      ]
     },
     "execution_count": 133,
     "metadata": {},
     "output_type": "execute_result"
    }
   ],
   "source": [
    "test_pair.shape"
   ]
  },
  {
   "cell_type": "code",
   "execution_count": 134,
   "metadata": {},
   "outputs": [],
   "source": [
    "stack_train = np.concatenate((stack_train, train_pair), axis=1)\n",
    "stack_test = np.concatenate((stack_test, test_pair), axis=1)"
   ]
  },
  {
   "cell_type": "code",
   "execution_count": 135,
   "metadata": {},
   "outputs": [
    {
     "data": {
      "text/plain": [
       "LinearRegression(copy_X=True, fit_intercept=True, n_jobs=-1, normalize=True)"
      ]
     },
     "execution_count": 135,
     "metadata": {},
     "output_type": "execute_result"
    }
   ],
   "source": [
    "lr = LinearRegression(normalize=True, n_jobs=-1)\n",
    "lr.fit(stack_train, stack_y)"
   ]
  },
  {
   "cell_type": "code",
   "execution_count": 136,
   "metadata": {},
   "outputs": [
    {
     "data": {
      "text/plain": [
       "0.6308994673425566"
      ]
     },
     "execution_count": 136,
     "metadata": {},
     "output_type": "execute_result"
    }
   ],
   "source": [
    "lr.score(stack_train, stack_y)"
   ]
  },
  {
   "cell_type": "code",
   "execution_count": 138,
   "metadata": {},
   "outputs": [],
   "source": [
    "stack_pred_lr = lr.predict(stack_test)"
   ]
  },
  {
   "cell_type": "code",
   "execution_count": 66,
   "metadata": {},
   "outputs": [],
   "source": [
    "def create_submission_file(pred, name):\n",
    "    ID = np.arange(0, sales_test.shape[0]) \n",
    "    new_df = pd.DataFrame({'ID': ID, 'item_cnt_month': pred})\n",
    "    new_df.to_csv('Submission Time Series/'+name+'.csv',index = False)"
   ]
  },
  {
   "cell_type": "code",
   "execution_count": 101,
   "metadata": {},
   "outputs": [],
   "source": [
    "create_submission_file(create_test_data(stack_pred_lr, dict_cat), 'stack_lr')"
   ]
  },
  {
   "cell_type": "markdown",
   "metadata": {},
   "source": [
    "Adding the lag feature"
   ]
  },
  {
   "cell_type": "code",
   "execution_count": 106,
   "metadata": {},
   "outputs": [],
   "source": [
    "prev_month_train = full_data.loc[full_data['date_block_num'].isin(stack_months), 'cnt_shop_item_lag_1']\n",
    "prev_month_test = full_data.loc[full_data['date_block_num'].isin([34]), 'cnt_shop_item_lag_1']"
   ]
  },
  {
   "cell_type": "code",
   "execution_count": 143,
   "metadata": {},
   "outputs": [],
   "source": [
    "stack_train2 = np.column_stack((stack_train, prev_month_train))\n",
    "stack_test2 = np.column_stack((stack_test, prev_month_test))"
   ]
  },
  {
   "cell_type": "code",
   "execution_count": 144,
   "metadata": {},
   "outputs": [
    {
     "data": {
      "text/plain": [
       "LinearRegression(copy_X=True, fit_intercept=True, n_jobs=-1, normalize=True)"
      ]
     },
     "execution_count": 144,
     "metadata": {},
     "output_type": "execute_result"
    }
   ],
   "source": [
    "lr = LinearRegression(normalize=True, n_jobs=-1)\n",
    "lr.fit(stack_train2, stack_y)"
   ]
  },
  {
   "cell_type": "code",
   "execution_count": 145,
   "metadata": {},
   "outputs": [
    {
     "data": {
      "text/plain": [
       "0.6308997952296302"
      ]
     },
     "execution_count": 145,
     "metadata": {},
     "output_type": "execute_result"
    }
   ],
   "source": [
    "lr.score(stack_train2, stack_y)"
   ]
  }
 ],
 "metadata": {
  "kernelspec": {
   "display_name": "Python 3",
   "language": "python",
   "name": "python3"
  },
  "language_info": {
   "codemirror_mode": {
    "name": "ipython",
    "version": 3
   },
   "file_extension": ".py",
   "mimetype": "text/x-python",
   "name": "python",
   "nbconvert_exporter": "python",
   "pygments_lexer": "ipython3",
   "version": "3.6.5"
  }
 },
 "nbformat": 4,
 "nbformat_minor": 2
}
