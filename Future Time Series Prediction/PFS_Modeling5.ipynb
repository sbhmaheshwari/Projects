{
 "cells": [
  {
   "cell_type": "code",
   "execution_count": 1,
   "metadata": {},
   "outputs": [],
   "source": [
    "import pandas as pd\n",
    "import numpy as np\n",
    "import matplotlib.pyplot as plt\n",
    "% matplotlib inline\n",
    "from matplotlib import rc\n",
    "rc('figure', figsize=(15, 5))\n",
    "from sklearn.ensemble import RandomForestRegressor \n",
    "from sklearn.metrics import mean_squared_error\n",
    "from sklearn.preprocessing import LabelEncoder\n",
    "from timeit import default_timer as timer\n",
    "from sklearn.feature_extraction.text import TfidfVectorizer\n",
    "from sklearn.decomposition import TruncatedSVD\n",
    "import pickle\n",
    "from itertools import product\n",
    "from Utils_pfs import *"
   ]
  },
  {
   "cell_type": "code",
   "execution_count": 2,
   "metadata": {},
   "outputs": [],
   "source": [
    "sales_train = pd.read_csv(r'sales_train_v2.csv')\n",
    "items = pd.read_csv(r'items.csv')\n",
    "item_categories = pd.read_csv(r'item_categories.csv')\n",
    "shops = pd.read_csv(r'shops.csv')\n",
    "sales_test = pd.read_csv(r'test.csv')"
   ]
  },
  {
   "cell_type": "code",
   "execution_count": 3,
   "metadata": {
    "scrolled": true
   },
   "outputs": [],
   "source": [
    "sales_test['ID'] = 34\n",
    "sales_test.rename({'ID': 'date_block_num'}, axis = 1, inplace = True)\n",
    "sales_test = sales_test.merge(items.loc[:,['item_category_id', 'item_id']], on = 'item_id', how = 'left')"
   ]
  },
  {
   "cell_type": "code",
   "execution_count": 4,
   "metadata": {},
   "outputs": [],
   "source": [
    "sales_train = sales_train.merge(items.loc[:,['item_category_id', 'item_id']], on = 'item_id', how = 'left')"
   ]
  },
  {
   "cell_type": "markdown",
   "metadata": {},
   "source": [
    "Create Sales column"
   ]
  },
  {
   "cell_type": "code",
   "execution_count": 5,
   "metadata": {},
   "outputs": [],
   "source": [
    "sales_train = sales_train[sales_train['item_cnt_day']<1000]\n",
    "sales_train = sales_train[sales_train['item_price']<100000]"
   ]
  },
  {
   "cell_type": "code",
   "execution_count": 6,
   "metadata": {},
   "outputs": [],
   "source": [
    "sales_train['sales'] = sales_train['item_cnt_day']*sales_train['item_price']"
   ]
  },
  {
   "cell_type": "markdown",
   "metadata": {},
   "source": [
    "Creating a combination of all the item ids and shop ids in a month"
   ]
  },
  {
   "cell_type": "code",
   "execution_count": 7,
   "metadata": {},
   "outputs": [],
   "source": [
    "sales_month = sales_train.loc[sales_train['date_block_num']==0, :]\n",
    "unique_item = sales_month['item_id'].unique()\n",
    "unique_shop = sales_month['shop_id'].unique()"
   ]
  },
  {
   "cell_type": "code",
   "execution_count": 8,
   "metadata": {},
   "outputs": [],
   "source": [
    "sales_comb = []\n",
    "for month in sales_train['date_block_num'].unique():\n",
    "    sales_month = sales_train.loc[sales_train['date_block_num']==month, :]\n",
    "    unique_item = sales_month['item_id'].unique()\n",
    "    unique_shop = sales_month['shop_id'].unique()\n",
    "    sales_comb.append(np.array(list(product(*[[month], unique_shop, unique_item]))))\n",
    "sales_comb.append(np.array(list(product(*[[34], sales_test.shop_id.unique(), sales_test.item_id.unique()]))))\n",
    "sales_comb = np.vstack(sales_comb)\n",
    "sales_comb = pd.DataFrame(sales_comb, columns=['date_block_num', 'shop_id', 'item_id'])"
   ]
  },
  {
   "cell_type": "code",
   "execution_count": 9,
   "metadata": {},
   "outputs": [],
   "source": [
    "sales_comb = sales_comb.merge(items[['item_id', 'item_category_id']], on = 'item_id', how = 'left')"
   ]
  },
  {
   "cell_type": "code",
   "execution_count": 10,
   "metadata": {},
   "outputs": [
    {
     "data": {
      "text/plain": [
       "date_block_num      int64\n",
       "shop_id             int64\n",
       "item_id             int64\n",
       "item_category_id    int64\n",
       "dtype: object"
      ]
     },
     "execution_count": 10,
     "metadata": {},
     "output_type": "execute_result"
    }
   ],
   "source": [
    "sales_comb.dtypes"
   ]
  },
  {
   "cell_type": "markdown",
   "metadata": {},
   "source": [
    "Aggregating the data w.r.t shop id, item id and date_block_num"
   ]
  },
  {
   "cell_type": "code",
   "execution_count": 11,
   "metadata": {},
   "outputs": [],
   "source": [
    "grouped_data = sales_train.groupby(['date_block_num', 'shop_id', 'item_id']).agg({\n",
    "    'item_cnt_day':sum,\n",
    "    'sales':sum,\n",
    "    'item_price':'median'\n",
    "}).rename({'item_cnt_day': 'cnt_shop_item', 'sales': 'sales_shop_item', 'item_price': 'price_shop_item'}, axis = 1).reset_index()"
   ]
  },
  {
   "cell_type": "markdown",
   "metadata": {},
   "source": [
    "Aggregating the data wrt shop_id and date_block_num"
   ]
  },
  {
   "cell_type": "code",
   "execution_count": 12,
   "metadata": {},
   "outputs": [],
   "source": [
    "aggdata = sales_train.groupby(['date_block_num', 'shop_id']).agg({\n",
    "    'item_cnt_day':sum,\n",
    "    'sales':sum,\n",
    "    'item_price':'median'\n",
    "}).rename({'item_cnt_day': 'cnt_shop', 'sales': 'sales_shop', 'item_price': 'price_shop'}, axis = 1)\n",
    "grouped_data = grouped_data.join(aggdata, on = ['date_block_num', 'shop_id'])"
   ]
  },
  {
   "cell_type": "markdown",
   "metadata": {},
   "source": [
    "Aggregating the data wrt item_id and date_block_num"
   ]
  },
  {
   "cell_type": "code",
   "execution_count": 13,
   "metadata": {},
   "outputs": [],
   "source": [
    "aggdata = sales_train.groupby(['date_block_num', 'item_id']).agg({\n",
    "    'item_cnt_day':sum,\n",
    "    'sales':sum,\n",
    "    'item_price':'median'\n",
    "}).rename({'item_cnt_day': 'cnt_item', 'sales': 'sales_item', 'item_price': 'price_item'}, axis = 1)\n",
    "grouped_data = grouped_data.join(aggdata, on = ['date_block_num', 'item_id'])"
   ]
  },
  {
   "cell_type": "markdown",
   "metadata": {},
   "source": [
    "Aggregating the data wrt item_category_id and date_block_num"
   ]
  },
  {
   "cell_type": "code",
   "execution_count": 14,
   "metadata": {
    "scrolled": true
   },
   "outputs": [],
   "source": [
    "grouped_data = grouped_data.merge(items[['item_id', 'item_category_id']], on = 'item_id', how = 'left')"
   ]
  },
  {
   "cell_type": "code",
   "execution_count": 15,
   "metadata": {},
   "outputs": [],
   "source": [
    "aggdata = sales_train.groupby(['date_block_num', 'item_category_id']).agg({\n",
    "    'item_cnt_day':sum,\n",
    "    'sales':sum,\n",
    "    'item_price':'median'\n",
    "}).rename({'item_cnt_day': 'cnt_itcat', 'sales': 'sales_itcat', 'item_price': 'price_itcat'}, axis = 1)\n",
    "grouped_data = grouped_data.join(aggdata, on = ['date_block_num', 'item_category_id'])"
   ]
  },
  {
   "cell_type": "code",
   "execution_count": 16,
   "metadata": {},
   "outputs": [
    {
     "data": {
      "text/html": [
       "<div>\n",
       "<style scoped>\n",
       "    .dataframe tbody tr th:only-of-type {\n",
       "        vertical-align: middle;\n",
       "    }\n",
       "\n",
       "    .dataframe tbody tr th {\n",
       "        vertical-align: top;\n",
       "    }\n",
       "\n",
       "    .dataframe thead th {\n",
       "        text-align: right;\n",
       "    }\n",
       "</style>\n",
       "<table border=\"1\" class=\"dataframe\">\n",
       "  <thead>\n",
       "    <tr style=\"text-align: right;\">\n",
       "      <th></th>\n",
       "      <th>date_block_num</th>\n",
       "      <th>shop_id</th>\n",
       "      <th>item_id</th>\n",
       "      <th>cnt_shop_item</th>\n",
       "      <th>sales_shop_item</th>\n",
       "      <th>price_shop_item</th>\n",
       "      <th>cnt_shop</th>\n",
       "      <th>sales_shop</th>\n",
       "      <th>price_shop</th>\n",
       "      <th>cnt_item</th>\n",
       "      <th>sales_item</th>\n",
       "      <th>price_item</th>\n",
       "      <th>item_category_id</th>\n",
       "      <th>cnt_itcat</th>\n",
       "      <th>sales_itcat</th>\n",
       "      <th>price_itcat</th>\n",
       "    </tr>\n",
       "  </thead>\n",
       "  <tbody>\n",
       "    <tr>\n",
       "      <th>0</th>\n",
       "      <td>0</td>\n",
       "      <td>0</td>\n",
       "      <td>32</td>\n",
       "      <td>6.0</td>\n",
       "      <td>1326.0</td>\n",
       "      <td>221.0</td>\n",
       "      <td>5578.0</td>\n",
       "      <td>2966412.0</td>\n",
       "      <td>231.0</td>\n",
       "      <td>299.0</td>\n",
       "      <td>101515.86</td>\n",
       "      <td>349.0</td>\n",
       "      <td>40</td>\n",
       "      <td>33489.0</td>\n",
       "      <td>8667236.69</td>\n",
       "      <td>199.0</td>\n",
       "    </tr>\n",
       "    <tr>\n",
       "      <th>1</th>\n",
       "      <td>0</td>\n",
       "      <td>0</td>\n",
       "      <td>33</td>\n",
       "      <td>3.0</td>\n",
       "      <td>1041.0</td>\n",
       "      <td>347.0</td>\n",
       "      <td>5578.0</td>\n",
       "      <td>2966412.0</td>\n",
       "      <td>231.0</td>\n",
       "      <td>61.0</td>\n",
       "      <td>29831.00</td>\n",
       "      <td>499.0</td>\n",
       "      <td>37</td>\n",
       "      <td>6094.0</td>\n",
       "      <td>2845049.46</td>\n",
       "      <td>399.0</td>\n",
       "    </tr>\n",
       "    <tr>\n",
       "      <th>2</th>\n",
       "      <td>0</td>\n",
       "      <td>0</td>\n",
       "      <td>35</td>\n",
       "      <td>1.0</td>\n",
       "      <td>247.0</td>\n",
       "      <td>247.0</td>\n",
       "      <td>5578.0</td>\n",
       "      <td>2966412.0</td>\n",
       "      <td>231.0</td>\n",
       "      <td>78.0</td>\n",
       "      <td>30210.00</td>\n",
       "      <td>399.0</td>\n",
       "      <td>40</td>\n",
       "      <td>33489.0</td>\n",
       "      <td>8667236.69</td>\n",
       "      <td>199.0</td>\n",
       "    </tr>\n",
       "    <tr>\n",
       "      <th>3</th>\n",
       "      <td>0</td>\n",
       "      <td>0</td>\n",
       "      <td>43</td>\n",
       "      <td>1.0</td>\n",
       "      <td>221.0</td>\n",
       "      <td>221.0</td>\n",
       "      <td>5578.0</td>\n",
       "      <td>2966412.0</td>\n",
       "      <td>231.0</td>\n",
       "      <td>2.0</td>\n",
       "      <td>469.00</td>\n",
       "      <td>234.5</td>\n",
       "      <td>40</td>\n",
       "      <td>33489.0</td>\n",
       "      <td>8667236.69</td>\n",
       "      <td>199.0</td>\n",
       "    </tr>\n",
       "    <tr>\n",
       "      <th>4</th>\n",
       "      <td>0</td>\n",
       "      <td>0</td>\n",
       "      <td>51</td>\n",
       "      <td>2.0</td>\n",
       "      <td>257.0</td>\n",
       "      <td>128.5</td>\n",
       "      <td>5578.0</td>\n",
       "      <td>2966412.0</td>\n",
       "      <td>231.0</td>\n",
       "      <td>13.0</td>\n",
       "      <td>2996.00</td>\n",
       "      <td>249.0</td>\n",
       "      <td>57</td>\n",
       "      <td>1539.0</td>\n",
       "      <td>427204.87</td>\n",
       "      <td>299.0</td>\n",
       "    </tr>\n",
       "  </tbody>\n",
       "</table>\n",
       "</div>"
      ],
      "text/plain": [
       "   date_block_num  shop_id  item_id  cnt_shop_item  sales_shop_item  \\\n",
       "0               0        0       32            6.0           1326.0   \n",
       "1               0        0       33            3.0           1041.0   \n",
       "2               0        0       35            1.0            247.0   \n",
       "3               0        0       43            1.0            221.0   \n",
       "4               0        0       51            2.0            257.0   \n",
       "\n",
       "   price_shop_item  cnt_shop  sales_shop  price_shop  cnt_item  sales_item  \\\n",
       "0            221.0    5578.0   2966412.0       231.0     299.0   101515.86   \n",
       "1            347.0    5578.0   2966412.0       231.0      61.0    29831.00   \n",
       "2            247.0    5578.0   2966412.0       231.0      78.0    30210.00   \n",
       "3            221.0    5578.0   2966412.0       231.0       2.0      469.00   \n",
       "4            128.5    5578.0   2966412.0       231.0      13.0     2996.00   \n",
       "\n",
       "   price_item  item_category_id  cnt_itcat  sales_itcat  price_itcat  \n",
       "0       349.0                40    33489.0   8667236.69        199.0  \n",
       "1       499.0                37     6094.0   2845049.46        399.0  \n",
       "2       399.0                40    33489.0   8667236.69        199.0  \n",
       "3       234.5                40    33489.0   8667236.69        199.0  \n",
       "4       249.0                57     1539.0    427204.87        299.0  "
      ]
     },
     "execution_count": 16,
     "metadata": {},
     "output_type": "execute_result"
    }
   ],
   "source": [
    "grouped_data.head()"
   ]
  },
  {
   "cell_type": "markdown",
   "metadata": {},
   "source": [
    "Appending the test data as well"
   ]
  },
  {
   "cell_type": "code",
   "execution_count": 17,
   "metadata": {},
   "outputs": [],
   "source": [
    "grouped_data = grouped_data.append(sales_test, sort = False).fillna(0)"
   ]
  },
  {
   "cell_type": "code",
   "execution_count": 18,
   "metadata": {},
   "outputs": [
    {
     "data": {
      "text/html": [
       "<div>\n",
       "<style scoped>\n",
       "    .dataframe tbody tr th:only-of-type {\n",
       "        vertical-align: middle;\n",
       "    }\n",
       "\n",
       "    .dataframe tbody tr th {\n",
       "        vertical-align: top;\n",
       "    }\n",
       "\n",
       "    .dataframe thead th {\n",
       "        text-align: right;\n",
       "    }\n",
       "</style>\n",
       "<table border=\"1\" class=\"dataframe\">\n",
       "  <thead>\n",
       "    <tr style=\"text-align: right;\">\n",
       "      <th></th>\n",
       "      <th>date_block_num</th>\n",
       "      <th>shop_id</th>\n",
       "      <th>item_id</th>\n",
       "      <th>cnt_shop_item</th>\n",
       "      <th>sales_shop_item</th>\n",
       "      <th>price_shop_item</th>\n",
       "      <th>cnt_shop</th>\n",
       "      <th>sales_shop</th>\n",
       "      <th>price_shop</th>\n",
       "      <th>cnt_item</th>\n",
       "      <th>sales_item</th>\n",
       "      <th>price_item</th>\n",
       "      <th>item_category_id</th>\n",
       "      <th>cnt_itcat</th>\n",
       "      <th>sales_itcat</th>\n",
       "      <th>price_itcat</th>\n",
       "    </tr>\n",
       "  </thead>\n",
       "  <tbody>\n",
       "    <tr>\n",
       "      <th>214195</th>\n",
       "      <td>34</td>\n",
       "      <td>45</td>\n",
       "      <td>18454</td>\n",
       "      <td>0.0</td>\n",
       "      <td>0.0</td>\n",
       "      <td>0.0</td>\n",
       "      <td>0.0</td>\n",
       "      <td>0.0</td>\n",
       "      <td>0.0</td>\n",
       "      <td>0.0</td>\n",
       "      <td>0.0</td>\n",
       "      <td>0.0</td>\n",
       "      <td>55</td>\n",
       "      <td>0.0</td>\n",
       "      <td>0.0</td>\n",
       "      <td>0.0</td>\n",
       "    </tr>\n",
       "    <tr>\n",
       "      <th>214196</th>\n",
       "      <td>34</td>\n",
       "      <td>45</td>\n",
       "      <td>16188</td>\n",
       "      <td>0.0</td>\n",
       "      <td>0.0</td>\n",
       "      <td>0.0</td>\n",
       "      <td>0.0</td>\n",
       "      <td>0.0</td>\n",
       "      <td>0.0</td>\n",
       "      <td>0.0</td>\n",
       "      <td>0.0</td>\n",
       "      <td>0.0</td>\n",
       "      <td>64</td>\n",
       "      <td>0.0</td>\n",
       "      <td>0.0</td>\n",
       "      <td>0.0</td>\n",
       "    </tr>\n",
       "    <tr>\n",
       "      <th>214197</th>\n",
       "      <td>34</td>\n",
       "      <td>45</td>\n",
       "      <td>15757</td>\n",
       "      <td>0.0</td>\n",
       "      <td>0.0</td>\n",
       "      <td>0.0</td>\n",
       "      <td>0.0</td>\n",
       "      <td>0.0</td>\n",
       "      <td>0.0</td>\n",
       "      <td>0.0</td>\n",
       "      <td>0.0</td>\n",
       "      <td>0.0</td>\n",
       "      <td>55</td>\n",
       "      <td>0.0</td>\n",
       "      <td>0.0</td>\n",
       "      <td>0.0</td>\n",
       "    </tr>\n",
       "    <tr>\n",
       "      <th>214198</th>\n",
       "      <td>34</td>\n",
       "      <td>45</td>\n",
       "      <td>19648</td>\n",
       "      <td>0.0</td>\n",
       "      <td>0.0</td>\n",
       "      <td>0.0</td>\n",
       "      <td>0.0</td>\n",
       "      <td>0.0</td>\n",
       "      <td>0.0</td>\n",
       "      <td>0.0</td>\n",
       "      <td>0.0</td>\n",
       "      <td>0.0</td>\n",
       "      <td>40</td>\n",
       "      <td>0.0</td>\n",
       "      <td>0.0</td>\n",
       "      <td>0.0</td>\n",
       "    </tr>\n",
       "    <tr>\n",
       "      <th>214199</th>\n",
       "      <td>34</td>\n",
       "      <td>45</td>\n",
       "      <td>969</td>\n",
       "      <td>0.0</td>\n",
       "      <td>0.0</td>\n",
       "      <td>0.0</td>\n",
       "      <td>0.0</td>\n",
       "      <td>0.0</td>\n",
       "      <td>0.0</td>\n",
       "      <td>0.0</td>\n",
       "      <td>0.0</td>\n",
       "      <td>0.0</td>\n",
       "      <td>37</td>\n",
       "      <td>0.0</td>\n",
       "      <td>0.0</td>\n",
       "      <td>0.0</td>\n",
       "    </tr>\n",
       "  </tbody>\n",
       "</table>\n",
       "</div>"
      ],
      "text/plain": [
       "        date_block_num  shop_id  item_id  cnt_shop_item  sales_shop_item  \\\n",
       "214195              34       45    18454            0.0              0.0   \n",
       "214196              34       45    16188            0.0              0.0   \n",
       "214197              34       45    15757            0.0              0.0   \n",
       "214198              34       45    19648            0.0              0.0   \n",
       "214199              34       45      969            0.0              0.0   \n",
       "\n",
       "        price_shop_item  cnt_shop  sales_shop  price_shop  cnt_item  \\\n",
       "214195              0.0       0.0         0.0         0.0       0.0   \n",
       "214196              0.0       0.0         0.0         0.0       0.0   \n",
       "214197              0.0       0.0         0.0         0.0       0.0   \n",
       "214198              0.0       0.0         0.0         0.0       0.0   \n",
       "214199              0.0       0.0         0.0         0.0       0.0   \n",
       "\n",
       "        sales_item  price_item  item_category_id  cnt_itcat  sales_itcat  \\\n",
       "214195         0.0         0.0                55        0.0          0.0   \n",
       "214196         0.0         0.0                64        0.0          0.0   \n",
       "214197         0.0         0.0                55        0.0          0.0   \n",
       "214198         0.0         0.0                40        0.0          0.0   \n",
       "214199         0.0         0.0                37        0.0          0.0   \n",
       "\n",
       "        price_itcat  \n",
       "214195          0.0  \n",
       "214196          0.0  \n",
       "214197          0.0  \n",
       "214198          0.0  \n",
       "214199          0.0  "
      ]
     },
     "execution_count": 18,
     "metadata": {},
     "output_type": "execute_result"
    }
   ],
   "source": [
    "grouped_data.tail()"
   ]
  },
  {
   "cell_type": "markdown",
   "metadata": {},
   "source": [
    "Splitting date to day, month and year"
   ]
  },
  {
   "cell_type": "code",
   "execution_count": 19,
   "metadata": {},
   "outputs": [],
   "source": [
    "date_mat = sales_train.date.str.split('.', expand = True).astype('int32')\n",
    "date_mat.columns = ['day', 'month', 'year']\n",
    "date_df = pd.concat([sales_train['date_block_num'], date_mat[['month', 'year']]], axis = 1)\n",
    "date_df.drop_duplicates(inplace = True)\n",
    "date_df = date_df.append([{'date_block_num': 34, 'month': 11, 'year': 2015}])"
   ]
  },
  {
   "cell_type": "code",
   "execution_count": 20,
   "metadata": {
    "scrolled": true
   },
   "outputs": [],
   "source": [
    "grouped_data = grouped_data.merge(date_df, on = 'date_block_num', how = 'left')"
   ]
  },
  {
   "cell_type": "code",
   "execution_count": 21,
   "metadata": {},
   "outputs": [
    {
     "data": {
      "text/plain": [
       "Index(['date_block_num', 'shop_id', 'item_id', 'cnt_shop_item',\n",
       "       'sales_shop_item', 'price_shop_item', 'cnt_shop', 'sales_shop',\n",
       "       'price_shop', 'cnt_item', 'sales_item', 'price_item',\n",
       "       'item_category_id', 'cnt_itcat', 'sales_itcat', 'price_itcat', 'month',\n",
       "       'year'],\n",
       "      dtype='object')"
      ]
     },
     "execution_count": 21,
     "metadata": {},
     "output_type": "execute_result"
    }
   ],
   "source": [
    "grouped_data.columns"
   ]
  },
  {
   "cell_type": "markdown",
   "metadata": {},
   "source": [
    "Clipping the cnt_shop_item between 0 and 20 to remove outliers"
   ]
  },
  {
   "cell_type": "code",
   "execution_count": 22,
   "metadata": {},
   "outputs": [],
   "source": [
    "grouped_data['cnt_shop_item'].clip(0,20, inplace = True)"
   ]
  },
  {
   "cell_type": "code",
   "execution_count": 23,
   "metadata": {},
   "outputs": [],
   "source": [
    "del aggdata"
   ]
  },
  {
   "cell_type": "code",
   "execution_count": 24,
   "metadata": {},
   "outputs": [],
   "source": [
    "grouped_data = downcast_dtypes(grouped_data)"
   ]
  },
  {
   "cell_type": "markdown",
   "metadata": {},
   "source": [
    "Merge sales_comb and grouped_data"
   ]
  },
  {
   "cell_type": "code",
   "execution_count": 25,
   "metadata": {},
   "outputs": [
    {
     "data": {
      "text/html": [
       "<div>\n",
       "<style scoped>\n",
       "    .dataframe tbody tr th:only-of-type {\n",
       "        vertical-align: middle;\n",
       "    }\n",
       "\n",
       "    .dataframe tbody tr th {\n",
       "        vertical-align: top;\n",
       "    }\n",
       "\n",
       "    .dataframe thead th {\n",
       "        text-align: right;\n",
       "    }\n",
       "</style>\n",
       "<table border=\"1\" class=\"dataframe\">\n",
       "  <thead>\n",
       "    <tr style=\"text-align: right;\">\n",
       "      <th></th>\n",
       "      <th>date_block_num</th>\n",
       "      <th>shop_id</th>\n",
       "      <th>item_id</th>\n",
       "      <th>item_category_id</th>\n",
       "    </tr>\n",
       "  </thead>\n",
       "  <tbody>\n",
       "    <tr>\n",
       "      <th>0</th>\n",
       "      <td>0</td>\n",
       "      <td>59</td>\n",
       "      <td>22154</td>\n",
       "      <td>37</td>\n",
       "    </tr>\n",
       "    <tr>\n",
       "      <th>1</th>\n",
       "      <td>0</td>\n",
       "      <td>59</td>\n",
       "      <td>2552</td>\n",
       "      <td>58</td>\n",
       "    </tr>\n",
       "    <tr>\n",
       "      <th>2</th>\n",
       "      <td>0</td>\n",
       "      <td>59</td>\n",
       "      <td>2554</td>\n",
       "      <td>58</td>\n",
       "    </tr>\n",
       "    <tr>\n",
       "      <th>3</th>\n",
       "      <td>0</td>\n",
       "      <td>59</td>\n",
       "      <td>2555</td>\n",
       "      <td>56</td>\n",
       "    </tr>\n",
       "    <tr>\n",
       "      <th>4</th>\n",
       "      <td>0</td>\n",
       "      <td>59</td>\n",
       "      <td>2564</td>\n",
       "      <td>59</td>\n",
       "    </tr>\n",
       "  </tbody>\n",
       "</table>\n",
       "</div>"
      ],
      "text/plain": [
       "   date_block_num  shop_id  item_id  item_category_id\n",
       "0               0       59    22154                37\n",
       "1               0       59     2552                58\n",
       "2               0       59     2554                58\n",
       "3               0       59     2555                56\n",
       "4               0       59     2564                59"
      ]
     },
     "execution_count": 25,
     "metadata": {},
     "output_type": "execute_result"
    }
   ],
   "source": [
    "sales_comb.head()"
   ]
  },
  {
   "cell_type": "code",
   "execution_count": 26,
   "metadata": {
    "scrolled": true
   },
   "outputs": [],
   "source": [
    "merge_index = ['date_block_num', 'shop_id', 'item_id', 'item_category_id']\n",
    "grouped_data = sales_comb.merge(grouped_data, on=merge_index, how = 'left').fillna(0)"
   ]
  },
  {
   "cell_type": "code",
   "execution_count": 27,
   "metadata": {},
   "outputs": [
    {
     "data": {
      "text/plain": [
       "(11128004, 18)"
      ]
     },
     "execution_count": 27,
     "metadata": {},
     "output_type": "execute_result"
    }
   ],
   "source": [
    "grouped_data.shape"
   ]
  },
  {
   "cell_type": "code",
   "execution_count": 28,
   "metadata": {},
   "outputs": [],
   "source": [
    "del sales_comb"
   ]
  },
  {
   "cell_type": "markdown",
   "metadata": {},
   "source": [
    "Creating Expanding Mean Encodings"
   ]
  },
  {
   "cell_type": "code",
   "execution_count": 29,
   "metadata": {},
   "outputs": [],
   "source": [
    "enc_feat = ['shop_id', 'item_id', 'item_category_id', 'month', 'year']\n",
    "target_feat = ['cnt_shop_item', 'cnt_shop', 'cnt_item', 'cnt_itcat']"
   ]
  },
  {
   "cell_type": "code",
   "execution_count": 30,
   "metadata": {},
   "outputs": [],
   "source": [
    "enc_df = grouped_data[['date_block_num', 'shop_id', 'item_id']].copy()\n",
    "for i in enc_feat:\n",
    "    for j in target_feat:\n",
    "        cum_sum = grouped_data.groupby(i).cumsum()[j] - grouped_data[j]\n",
    "        cum_count = grouped_data.groupby(i).cumcount()\n",
    "        enc_df[i+'_enc_'+j] = cum_sum/(cum_count+1)   "
   ]
  },
  {
   "cell_type": "code",
   "execution_count": 31,
   "metadata": {},
   "outputs": [
    {
     "data": {
      "text/plain": [
       "Index(['date_block_num', 'shop_id', 'item_id', 'shop_id_enc_cnt_shop_item',\n",
       "       'shop_id_enc_cnt_shop', 'shop_id_enc_cnt_item', 'shop_id_enc_cnt_itcat',\n",
       "       'item_id_enc_cnt_shop_item', 'item_id_enc_cnt_shop',\n",
       "       'item_id_enc_cnt_item', 'item_id_enc_cnt_itcat',\n",
       "       'item_category_id_enc_cnt_shop_item', 'item_category_id_enc_cnt_shop',\n",
       "       'item_category_id_enc_cnt_item', 'item_category_id_enc_cnt_itcat',\n",
       "       'month_enc_cnt_shop_item', 'month_enc_cnt_shop', 'month_enc_cnt_item',\n",
       "       'month_enc_cnt_itcat', 'year_enc_cnt_shop_item', 'year_enc_cnt_shop',\n",
       "       'year_enc_cnt_item', 'year_enc_cnt_itcat'],\n",
       "      dtype='object')"
      ]
     },
     "execution_count": 31,
     "metadata": {},
     "output_type": "execute_result"
    }
   ],
   "source": [
    "enc_df.columns"
   ]
  },
  {
   "cell_type": "code",
   "execution_count": 32,
   "metadata": {},
   "outputs": [
    {
     "data": {
      "text/plain": [
       "255944092"
      ]
     },
     "execution_count": 32,
     "metadata": {},
     "output_type": "execute_result"
    }
   ],
   "source": [
    "enc_df.size"
   ]
  },
  {
   "cell_type": "markdown",
   "metadata": {},
   "source": [
    "Creating Lagged Features"
   ]
  },
  {
   "cell_type": "code",
   "execution_count": 33,
   "metadata": {},
   "outputs": [],
   "source": [
    "lag_feat = ['sales_shop_item', 'price_shop_item', 'sales_shop', 'price_shop',  \n",
    "            'sales_item', 'price_item', 'sales_itcat', 'price_itcat']\n",
    "lag_df = grouped_data[['date_block_num', 'shop_id', 'item_id']]\n",
    "lag_int = [1,2]\n",
    "for i in lag_int:\n",
    "    key_df = grouped_data[['date_block_num', 'shop_id', 'item_id']+lag_feat].copy()\n",
    "    key_df['date_block_num'] = key_df['date_block_num']+i\n",
    "    lag_df = lag_df.merge(key_df, on = ['date_block_num', 'shop_id', 'item_id'], how = 'left').fillna(0)\n",
    "    lag_df.columns = [j + '_lag_'+ str(i) if j in lag_feat else j for j in lag_df.columns]"
   ]
  },
  {
   "cell_type": "code",
   "execution_count": 34,
   "metadata": {},
   "outputs": [],
   "source": [
    "lag_feat = ['cnt_shop_item','cnt_shop', 'cnt_item', 'cnt_itcat']\n",
    "lag_int = [1,2,3,5,12]\n",
    "for i in lag_int:\n",
    "    key_df = grouped_data[['date_block_num', 'shop_id', 'item_id'] + lag_feat].copy()\n",
    "    key_df['date_block_num'] = key_df['date_block_num']+i\n",
    "    lag_df = lag_df.merge(key_df, on = ['date_block_num', 'shop_id', 'item_id'], how = 'left').fillna(0)\n",
    "    lag_df.columns = [j + '_lag_'+ str(i) if j in lag_feat else j for j in lag_df.columns]\n",
    "del key_df"
   ]
  },
  {
   "cell_type": "code",
   "execution_count": 35,
   "metadata": {},
   "outputs": [
    {
     "data": {
      "text/plain": [
       "Index(['date_block_num', 'shop_id', 'item_id', 'sales_shop_item_lag_1',\n",
       "       'price_shop_item_lag_1', 'sales_shop_lag_1', 'price_shop_lag_1',\n",
       "       'sales_item_lag_1', 'price_item_lag_1', 'sales_itcat_lag_1',\n",
       "       'price_itcat_lag_1', 'sales_shop_item_lag_2', 'price_shop_item_lag_2',\n",
       "       'sales_shop_lag_2', 'price_shop_lag_2', 'sales_item_lag_2',\n",
       "       'price_item_lag_2', 'sales_itcat_lag_2', 'price_itcat_lag_2',\n",
       "       'cnt_shop_item_lag_1', 'cnt_shop_lag_1', 'cnt_item_lag_1',\n",
       "       'cnt_itcat_lag_1', 'cnt_shop_item_lag_2', 'cnt_shop_lag_2',\n",
       "       'cnt_item_lag_2', 'cnt_itcat_lag_2', 'cnt_shop_item_lag_3',\n",
       "       'cnt_shop_lag_3', 'cnt_item_lag_3', 'cnt_itcat_lag_3',\n",
       "       'cnt_shop_item_lag_5', 'cnt_shop_lag_5', 'cnt_item_lag_5',\n",
       "       'cnt_itcat_lag_5', 'cnt_shop_item_lag_12', 'cnt_shop_lag_12',\n",
       "       'cnt_item_lag_12', 'cnt_itcat_lag_12'],\n",
       "      dtype='object')"
      ]
     },
     "execution_count": 35,
     "metadata": {},
     "output_type": "execute_result"
    }
   ],
   "source": [
    "lag_df.columns"
   ]
  },
  {
   "cell_type": "code",
   "execution_count": 39,
   "metadata": {},
   "outputs": [],
   "source": [
    "grouped_data = grouped_data.loc[grouped_data['date_block_num']>=12,:]\n",
    "enc_df = enc_df.loc[enc_df['date_block_num']>=12,:]\n",
    "lag_df = lag_df.loc[lag_df['date_block_num']>=12,:]"
   ]
  },
  {
   "cell_type": "markdown",
   "metadata": {},
   "source": [
    "Exploiting text features in item category and item names"
   ]
  },
  {
   "cell_type": "code",
   "execution_count": 40,
   "metadata": {},
   "outputs": [],
   "source": [
    "n_comp = 2"
   ]
  },
  {
   "cell_type": "code",
   "execution_count": 41,
   "metadata": {},
   "outputs": [],
   "source": [
    "text_feat = ['item_id', 'item_category_id']\n",
    "if 'item_id' in text_feat:\n",
    "    text_df = items[['item_name', 'item_id']].copy()\n",
    "    tv = TfidfVectorizer()\n",
    "    tv_df = tv.fit_transform(text_df['item_name'])\n",
    "    svd = TruncatedSVD(n_components=n_comp, random_state = 24)\n",
    "    svd_df = svd.fit_transform(tv_df)\n",
    "    svd_df = pd.DataFrame(data = svd_df, columns = ['item_name_' + str(i) for i in np.arange(1,n_comp+1)])\n",
    "    item_name_df = pd.concat((text_df['item_id'], svd_df), axis = 1)\n",
    "if 'item_category_id' in text_feat:\n",
    "    text_df = item_categories.copy()\n",
    "    tv = TfidfVectorizer()\n",
    "    tv_df = tv.fit_transform(text_df['item_category_name'])\n",
    "    svd = TruncatedSVD(n_components=n_comp, random_state = 24)\n",
    "    svd_df = svd.fit_transform(tv_df)\n",
    "    svd_df = pd.DataFrame(data = svd_df, columns = ['item_category_name_' + str(i) for i in np.arange(1,n_comp+1)])\n",
    "    item_category_name_df = pd.concat((text_df['item_category_id'], svd_df), axis = 1)\n",
    "del tv_df, svd_df, text_df, svd, tv"
   ]
  },
  {
   "cell_type": "code",
   "execution_count": 42,
   "metadata": {},
   "outputs": [],
   "source": [
    "text_df = grouped_data[['date_block_num', 'shop_id', 'item_id', 'item_category_id']].copy()\n",
    "text_df = text_df.merge(item_name_df, on = 'item_id', how = 'left')\n",
    "text_df = text_df.merge(item_category_name_df, on = 'item_category_id', how = 'left')"
   ]
  },
  {
   "cell_type": "code",
   "execution_count": 43,
   "metadata": {},
   "outputs": [
    {
     "data": {
      "text/plain": [
       "Index(['date_block_num', 'shop_id', 'item_id', 'item_name_1', 'item_name_2',\n",
       "       'item_category_name_1', 'item_category_name_2'],\n",
       "      dtype='object')"
      ]
     },
     "execution_count": 43,
     "metadata": {},
     "output_type": "execute_result"
    }
   ],
   "source": [
    "text_df.drop('item_category_id', axis = 1, inplace = True)\n",
    "text_df.columns"
   ]
  },
  {
   "cell_type": "code",
   "execution_count": 44,
   "metadata": {},
   "outputs": [
    {
     "name": "stdout",
     "output_type": "stream",
     "text": [
      "(6639294, 18)\n",
      "(6639294, 23)\n",
      "(6639294, 39)\n",
      "(6639294, 7)\n"
     ]
    }
   ],
   "source": [
    "for df in [grouped_data, enc_df, lag_df, text_df]:\n",
    "    print(df.shape)"
   ]
  },
  {
   "cell_type": "markdown",
   "metadata": {},
   "source": [
    "Merging all the datasets to create the full set"
   ]
  },
  {
   "cell_type": "code",
   "execution_count": 45,
   "metadata": {},
   "outputs": [],
   "source": [
    "full_data = grouped_data.copy()\n",
    "key_feat = ['date_block_num', 'shop_id', 'item_id']\n",
    "df = [enc_df, lag_df, text_df]\n",
    "for i in df:\n",
    "    full_data = full_data.merge(i, on = key_feat, how = 'left')"
   ]
  },
  {
   "cell_type": "code",
   "execution_count": 46,
   "metadata": {},
   "outputs": [
    {
     "data": {
      "text/plain": [
       "(6639294, 78)"
      ]
     },
     "execution_count": 46,
     "metadata": {},
     "output_type": "execute_result"
    }
   ],
   "source": [
    "full_data.shape"
   ]
  },
  {
   "cell_type": "code",
   "execution_count": 47,
   "metadata": {},
   "outputs": [
    {
     "data": {
      "text/plain": [
       "0"
      ]
     },
     "execution_count": 47,
     "metadata": {},
     "output_type": "execute_result"
    }
   ],
   "source": [
    "full_data.isnull().sum().sum()"
   ]
  },
  {
   "cell_type": "code",
   "execution_count": 48,
   "metadata": {},
   "outputs": [],
   "source": [
    "del grouped_data, enc_df, lag_df, text_df"
   ]
  },
  {
   "cell_type": "markdown",
   "metadata": {},
   "source": [
    "Dropping non required columns"
   ]
  },
  {
   "cell_type": "code",
   "execution_count": 49,
   "metadata": {},
   "outputs": [],
   "source": [
    "to_drop = ['sales_shop_item', 'price_shop_item', 'cnt_shop', 'sales_shop', 'price_shop', 'cnt_item', 'sales_item', 'price_item',\n",
    "           'cnt_itcat', 'sales_itcat', 'price_itcat']\n",
    "full_data.drop(to_drop, axis=1, inplace = True)"
   ]
  },
  {
   "cell_type": "code",
   "execution_count": 50,
   "metadata": {},
   "outputs": [
    {
     "data": {
      "text/plain": [
       "(6639294, 67)"
      ]
     },
     "execution_count": 50,
     "metadata": {},
     "output_type": "execute_result"
    }
   ],
   "source": [
    "full_data.shape"
   ]
  },
  {
   "cell_type": "code",
   "execution_count": 51,
   "metadata": {},
   "outputs": [],
   "source": [
    "full_data = downcast_dtypes(full_data)"
   ]
  },
  {
   "cell_type": "code",
   "execution_count": 52,
   "metadata": {},
   "outputs": [],
   "source": [
    "with open('full_data_3.pkl', 'wb') as handle:  \n",
    "    pickle.dump(full_data,handle,protocol=-1)"
   ]
  },
  {
   "cell_type": "markdown",
   "metadata": {},
   "source": [
    "Implementing a catboost model to find validation sets"
   ]
  },
  {
   "cell_type": "code",
   "execution_count": 5,
   "metadata": {},
   "outputs": [],
   "source": [
    "with open('full_data_3.pkl', 'rb') as file:\n",
    "    full_data = pickle.load(file)"
   ]
  },
  {
   "cell_type": "code",
   "execution_count": 6,
   "metadata": {},
   "outputs": [],
   "source": [
    "dict_cat = create_cv_sets2([22,33], full_data, sales_test)"
   ]
  },
  {
   "cell_type": "code",
   "execution_count": 22,
   "metadata": {},
   "outputs": [],
   "source": [
    "with open('dict_cat.pkl', 'wb') as handle:  \n",
    "    pickle.dump(dict_cat,handle,protocol=-1)"
   ]
  },
  {
   "cell_type": "code",
   "execution_count": 7,
   "metadata": {},
   "outputs": [],
   "source": [
    "del full_data"
   ]
  },
  {
   "cell_type": "code",
   "execution_count": 10,
   "metadata": {},
   "outputs": [
    {
     "data": {
      "text/plain": [
       "RandomForestRegressor(bootstrap=True, criterion='mse', max_depth=10,\n",
       "           max_features='auto', max_leaf_nodes=None,\n",
       "           min_impurity_decrease=0.0, min_impurity_split=None,\n",
       "           min_samples_leaf=1, min_samples_split=2,\n",
       "           min_weight_fraction_leaf=0.0, n_estimators=50, n_jobs=-1,\n",
       "           oob_score=False, random_state=None, verbose=0, warm_start=False)"
      ]
     },
     "execution_count": 10,
     "metadata": {},
     "output_type": "execute_result"
    }
   ],
   "source": [
    "rf = RandomForestRegressor(n_jobs=-1, n_estimators=50, max_depth=10)\n",
    "rf.fit(dict_cat['train'], dict_cat['train_y'])"
   ]
  },
  {
   "cell_type": "code",
   "execution_count": 11,
   "metadata": {},
   "outputs": [],
   "source": [
    "with open('rf_new.pkl','wb') as handle:\n",
    "    pickle.dump(rf,handle,protocol=-1)"
   ]
  },
  {
   "cell_type": "code",
   "execution_count": 14,
   "metadata": {},
   "outputs": [],
   "source": [
    "val_score = rf.score(dict_cat['val'], dict_cat['val_y'])"
   ]
  },
  {
   "cell_type": "code",
   "execution_count": 67,
   "metadata": {},
   "outputs": [],
   "source": [
    "pred = rf.predict(dict_cat['test'])"
   ]
  },
  {
   "cell_type": "code",
   "execution_count": 68,
   "metadata": {},
   "outputs": [],
   "source": [
    "create_submission_file(pred, 'rf_new', sales_test)"
   ]
  },
  {
   "cell_type": "markdown",
   "metadata": {},
   "source": [
    "Gauge feature importance using mean reduced error"
   ]
  },
  {
   "cell_type": "code",
   "execution_count": 15,
   "metadata": {},
   "outputs": [],
   "source": [
    "rf_err = []\n",
    "val_y = dict_cat['val_y'].copy()\n",
    "for i in range(dict_cat['val'].columns.shape[0]):\n",
    "    val_set = dict_cat['val'].copy()\n",
    "    np.random.shuffle(val_set.iloc[:,i].values)\n",
    "    rf_err.append((rf.score(val_set, val_y)-val_score)/val_score)"
   ]
  },
  {
   "cell_type": "code",
   "execution_count": 18,
   "metadata": {},
   "outputs": [],
   "source": [
    "rc('figure', figsize=(15, 5))"
   ]
  },
  {
   "cell_type": "code",
   "execution_count": 19,
   "metadata": {},
   "outputs": [
    {
     "data": {
      "text/plain": [
       "<matplotlib.axes._subplots.AxesSubplot at 0x1d2d2b477b8>"
      ]
     },
     "execution_count": 19,
     "metadata": {},
     "output_type": "execute_result"
    },
    {
     "data": {
      "image/png": "[encoded data removed]",
      "text/plain": [
       "<Figure size 1080x360 with 1 Axes>"
      ]
     },
     "metadata": {},
     "output_type": "display_data"
    }
   ],
   "source": [
    "pd.Series(data = rf_err, index=dict_cat['train'].columns).plot(kind='bar')"
   ]
  },
  {
   "cell_type": "code",
   "execution_count": 21,
   "metadata": {},
   "outputs": [
    {
     "data": {
      "text/plain": [
       "<matplotlib.axes._subplots.AxesSubplot at 0x1d2d369fbe0>"
      ]
     },
     "execution_count": 21,
     "metadata": {},
     "output_type": "execute_result"
    },
    {
     "data": {
      "image/png": "[encoded data removed]",
      "text/plain": [
       "<Figure size 1080x360 with 1 Axes>"
      ]
     },
     "metadata": {},
     "output_type": "display_data"
    }
   ],
   "source": [
    "pd.Series(data = rf.feature_importances_, index=dict_cat['train'].columns).plot(kind='bar')"
   ]
  },
  {
   "cell_type": "code",
   "execution_count": null,
   "metadata": {},
   "outputs": [],
   "source": []
  }
 ],
 "metadata": {
  "kernelspec": {
   "display_name": "Python 3",
   "language": "python",
   "name": "python3"
  },
  "language_info": {
   "codemirror_mode": {
    "name": "ipython",
    "version": 3
   },
   "file_extension": ".py",
   "mimetype": "text/x-python",
   "name": "python",
   "nbconvert_exporter": "python",
   "pygments_lexer": "ipython3",
   "version": "3.6.5"
  }
 },
 "nbformat": 4,
 "nbformat_minor": 2
}
