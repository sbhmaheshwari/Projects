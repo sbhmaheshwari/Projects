{
 "cells": [
  {
   "cell_type": "code",
   "execution_count": 2,
   "metadata": {
    "collapsed": true
   },
   "outputs": [],
   "source": [
    "import pandas as pd\n",
    "import numpy as np\n",
    "import matplotlib.pyplot as plt\n",
    "% matplotlib inline\n",
    "from matplotlib import rc\n",
    "rc('figure', figsize=(15, 5))\n",
    "import xgboost as xgb\n",
    "from xgboost import XGBRegressor\n",
    "from sklearn.ensemble import RandomForestRegressor \n",
    "from sklearn.metrics import mean_squared_error\n",
    "from catboost import CatBoostRegressor\n",
    "from sklearn.preprocessing import LabelEncoder\n",
    "from timeit import default_timer as timer\n",
    "from sklearn.feature_extraction.text import TfidfVectorizer\n",
    "from sklearn.decomposition import TruncatedSVD\n",
    "import pickle\n",
    "from Utils_pfs import *"
   ]
  },
  {
   "cell_type": "code",
   "execution_count": 3,
   "metadata": {
    "collapsed": true
   },
   "outputs": [],
   "source": [
    "sales_train = pd.read_csv(r'sales_train_v2.csv')\n",
    "items = pd.read_csv(r'items.csv')\n",
    "item_categories = pd.read_csv(r'item_categories.csv')\n",
    "shops = pd.read_csv(r'shops.csv')\n",
    "sales_test = pd.read_csv(r'test.csv')"
   ]
  },
  {
   "cell_type": "code",
   "execution_count": 4,
   "metadata": {
    "collapsed": true,
    "scrolled": true
   },
   "outputs": [],
   "source": [
    "sales_test['ID'] = 34\n",
    "sales_test.rename({'ID': 'date_block_num'}, axis = 1, inplace = True)\n",
    "sales_test = sales_test.merge(items.loc[:,['item_category_id', 'item_id']], on = 'item_id', how = 'left')"
   ]
  },
  {
   "cell_type": "code",
   "execution_count": 5,
   "metadata": {
    "collapsed": true
   },
   "outputs": [],
   "source": [
    "sales_train = sales_train.merge(items.loc[:,['item_category_id', 'item_id']], on = 'item_id', how = 'left')"
   ]
  },
  {
   "cell_type": "markdown",
   "metadata": {},
   "source": [
    "Create Sales column"
   ]
  },
  {
   "cell_type": "code",
   "execution_count": 6,
   "metadata": {
    "collapsed": true
   },
   "outputs": [],
   "source": [
    "sales_train['sales'] = sales_train['item_cnt_day']*sales_train['item_price']"
   ]
  },
  {
   "cell_type": "markdown",
   "metadata": {},
   "source": [
    "Aggregating the data w.r.t shop id, item id and date_block_num"
   ]
  },
  {
   "cell_type": "code",
   "execution_count": 7,
   "metadata": {
    "collapsed": true
   },
   "outputs": [],
   "source": [
    "grouped_data = sales_train.groupby(['date_block_num', 'shop_id', 'item_id']).agg({\n",
    "    'item_cnt_day':sum,\n",
    "    'sales':sum,\n",
    "    'item_price':'median'\n",
    "}).rename({'item_cnt_day': 'cnt_shop_item', 'sales': 'sales_shop_item', 'item_price': 'price_shop_item'}, axis = 1).reset_index()"
   ]
  },
  {
   "cell_type": "markdown",
   "metadata": {},
   "source": [
    "Aggregating the data wrt shop_id and date_block_num"
   ]
  },
  {
   "cell_type": "code",
   "execution_count": 8,
   "metadata": {
    "collapsed": true
   },
   "outputs": [],
   "source": [
    "aggdata = sales_train.groupby(['date_block_num', 'shop_id']).agg({\n",
    "    'item_cnt_day':sum,\n",
    "    'sales':sum,\n",
    "    'item_price':'median'\n",
    "}).rename({'item_cnt_day': 'cnt_shop', 'sales': 'sales_shop', 'item_price': 'price_shop'}, axis = 1)\n",
    "grouped_data = grouped_data.join(aggdata, on = ['date_block_num', 'shop_id'])"
   ]
  },
  {
   "cell_type": "markdown",
   "metadata": {},
   "source": [
    "Aggregating the data wrt item_id and date_block_num"
   ]
  },
  {
   "cell_type": "code",
   "execution_count": 9,
   "metadata": {
    "collapsed": true
   },
   "outputs": [],
   "source": [
    "aggdata = sales_train.groupby(['date_block_num', 'item_id']).agg({\n",
    "    'item_cnt_day':sum,\n",
    "    'sales':sum,\n",
    "    'item_price':'median'\n",
    "}).rename({'item_cnt_day': 'cnt_item', 'sales': 'sales_item', 'item_price': 'price_item'}, axis = 1)\n",
    "grouped_data = grouped_data.join(aggdata, on = ['date_block_num', 'item_id'])"
   ]
  },
  {
   "cell_type": "markdown",
   "metadata": {},
   "source": [
    "Aggregating the data wrt item_category_id and date_block_num"
   ]
  },
  {
   "cell_type": "code",
   "execution_count": 10,
   "metadata": {
    "collapsed": true,
    "scrolled": true
   },
   "outputs": [],
   "source": [
    "grouped_data = grouped_data.merge(items[['item_id', 'item_category_id']], on = 'item_id', how = 'left')"
   ]
  },
  {
   "cell_type": "code",
   "execution_count": 11,
   "metadata": {
    "collapsed": true
   },
   "outputs": [],
   "source": [
    "aggdata = sales_train.groupby(['date_block_num', 'item_category_id']).agg({\n",
    "    'item_cnt_day':sum,\n",
    "    'sales':sum,\n",
    "    'item_price':'median'\n",
    "}).rename({'item_cnt_day': 'cnt_itcat', 'sales': 'sales_itcat', 'item_price': 'price_itcat'}, axis = 1)\n",
    "grouped_data = grouped_data.join(aggdata, on = ['date_block_num', 'item_category_id'])"
   ]
  },
  {
   "cell_type": "markdown",
   "metadata": {},
   "source": [
    "Appending the test data as well"
   ]
  },
  {
   "cell_type": "code",
   "execution_count": 12,
   "metadata": {
    "collapsed": true
   },
   "outputs": [],
   "source": [
    "grouped_data = grouped_data.append(sales_test, sort = False).fillna(0)"
   ]
  },
  {
   "cell_type": "markdown",
   "metadata": {},
   "source": [
    "Splitting date to day, month and year"
   ]
  },
  {
   "cell_type": "code",
   "execution_count": 13,
   "metadata": {
    "collapsed": true
   },
   "outputs": [],
   "source": [
    "date_mat = sales_train.date.str.split('.', expand = True).astype('int32')\n",
    "date_mat.columns = ['day', 'month', 'year']\n",
    "date_df = pd.concat([sales_train['date_block_num'], date_mat[['month', 'year']]], axis = 1)\n",
    "date_df.drop_duplicates(inplace = True)\n",
    "date_df = date_df.append([{'date_block_num': 34, 'month': 11, 'year': 2015}])"
   ]
  },
  {
   "cell_type": "code",
   "execution_count": 14,
   "metadata": {
    "collapsed": true,
    "scrolled": true
   },
   "outputs": [],
   "source": [
    "grouped_data = grouped_data.merge(date_df, on = 'date_block_num', how = 'left')"
   ]
  },
  {
   "cell_type": "code",
   "execution_count": 15,
   "metadata": {},
   "outputs": [
    {
     "data": {
      "text/plain": [
       "Index(['date_block_num', 'shop_id', 'item_id', 'cnt_shop_item',\n",
       "       'sales_shop_item', 'price_shop_item', 'cnt_shop', 'sales_shop',\n",
       "       'price_shop', 'cnt_item', 'sales_item', 'price_item',\n",
       "       'item_category_id', 'cnt_itcat', 'sales_itcat', 'price_itcat', 'month',\n",
       "       'year'],\n",
       "      dtype='object')"
      ]
     },
     "execution_count": 15,
     "metadata": {},
     "output_type": "execute_result"
    }
   ],
   "source": [
    "grouped_data.columns"
   ]
  },
  {
   "cell_type": "markdown",
   "metadata": {},
   "source": [
    "Clipping the cnt_shop_item between 0 and 20 to remove outliers"
   ]
  },
  {
   "cell_type": "code",
   "execution_count": 16,
   "metadata": {
    "collapsed": true
   },
   "outputs": [],
   "source": [
    "grouped_data['cnt_shop_item'].clip(0,20, inplace = True)"
   ]
  },
  {
   "cell_type": "code",
   "execution_count": 17,
   "metadata": {
    "collapsed": true
   },
   "outputs": [],
   "source": [
    "del aggdata"
   ]
  },
  {
   "cell_type": "markdown",
   "metadata": {},
   "source": [
    "Creating Expanding Mean Encodings"
   ]
  },
  {
   "cell_type": "code",
   "execution_count": 18,
   "metadata": {
    "collapsed": true
   },
   "outputs": [],
   "source": [
    "enc_feat = ['shop_id', 'item_id', 'item_category_id', 'month', 'year']\n",
    "target_feat = ['cnt_shop_item', 'cnt_shop', 'cnt_item', 'cnt_itcat']"
   ]
  },
  {
   "cell_type": "code",
   "execution_count": 19,
   "metadata": {
    "collapsed": true
   },
   "outputs": [],
   "source": [
    "enc_df = grouped_data[['date_block_num', 'shop_id', 'item_id']].copy()\n",
    "for i in enc_feat:\n",
    "    for j in target_feat:\n",
    "        cum_sum = grouped_data.groupby(i).cumsum()[j] - grouped_data[j]\n",
    "        cum_count = grouped_data.groupby(i).cumcount()\n",
    "        enc_df[i+'_enc_'+j] = cum_sum/(cum_count+1)   "
   ]
  },
  {
   "cell_type": "code",
   "execution_count": 20,
   "metadata": {},
   "outputs": [
    {
     "data": {
      "text/plain": [
       "Index(['date_block_num', 'shop_id', 'item_id', 'shop_id_enc_cnt_shop_item',\n",
       "       'shop_id_enc_cnt_shop', 'shop_id_enc_cnt_item', 'shop_id_enc_cnt_itcat',\n",
       "       'item_id_enc_cnt_shop_item', 'item_id_enc_cnt_shop',\n",
       "       'item_id_enc_cnt_item', 'item_id_enc_cnt_itcat',\n",
       "       'item_category_id_enc_cnt_shop_item', 'item_category_id_enc_cnt_shop',\n",
       "       'item_category_id_enc_cnt_item', 'item_category_id_enc_cnt_itcat',\n",
       "       'month_enc_cnt_shop_item', 'month_enc_cnt_shop', 'month_enc_cnt_item',\n",
       "       'month_enc_cnt_itcat', 'year_enc_cnt_shop_item', 'year_enc_cnt_shop',\n",
       "       'year_enc_cnt_item', 'year_enc_cnt_itcat'],\n",
       "      dtype='object')"
      ]
     },
     "execution_count": 20,
     "metadata": {},
     "output_type": "execute_result"
    }
   ],
   "source": [
    "enc_df.columns"
   ]
  },
  {
   "cell_type": "markdown",
   "metadata": {},
   "source": [
    "Creating Lagged Features"
   ]
  },
  {
   "cell_type": "code",
   "execution_count": 21,
   "metadata": {
    "collapsed": true
   },
   "outputs": [],
   "source": [
    "lag_feat = ['sales_shop_item', 'price_shop_item', 'sales_shop', 'price_shop',  \n",
    "            'sales_item', 'price_item', 'sales_itcat', 'price_itcat']\n",
    "lag_df = grouped_data[['date_block_num', 'shop_id', 'item_id']]\n",
    "lag_int = [1,2]\n",
    "for i in lag_int:\n",
    "    key_df = grouped_data[['date_block_num', 'shop_id', 'item_id']+lag_feat].copy()\n",
    "    key_df['date_block_num'] = key_df['date_block_num']+i\n",
    "    lag_df = lag_df.merge(key_df, on = ['date_block_num', 'shop_id', 'item_id'], how = 'left').fillna(0)\n",
    "    lag_df.columns = [j + '_lag_'+ str(i) if j in lag_feat else j for j in lag_df.columns]"
   ]
  },
  {
   "cell_type": "code",
   "execution_count": 22,
   "metadata": {
    "collapsed": true
   },
   "outputs": [],
   "source": [
    "lag_feat = ['cnt_shop_item','cnt_shop', 'cnt_item', 'cnt_itcat']\n",
    "lag_int = [1,2,3,4,5,6,12]\n",
    "for i in lag_int:\n",
    "    key_df = grouped_data[['date_block_num', 'shop_id', 'item_id'] + lag_feat].copy()\n",
    "    key_df['date_block_num'] = key_df['date_block_num']+i\n",
    "    lag_df = lag_df.merge(key_df, on = ['date_block_num', 'shop_id', 'item_id'], how = 'left').fillna(0)\n",
    "    lag_df.columns = [j + '_lag_'+ str(i) if j in lag_feat else j for j in lag_df.columns]\n",
    "del key_df"
   ]
  },
  {
   "cell_type": "code",
   "execution_count": 23,
   "metadata": {},
   "outputs": [
    {
     "data": {
      "text/plain": [
       "Index(['date_block_num', 'shop_id', 'item_id', 'sales_shop_item_lag_1',\n",
       "       'price_shop_item_lag_1', 'sales_shop_lag_1', 'price_shop_lag_1',\n",
       "       'sales_item_lag_1', 'price_item_lag_1', 'sales_itcat_lag_1',\n",
       "       'price_itcat_lag_1', 'sales_shop_item_lag_2', 'price_shop_item_lag_2',\n",
       "       'sales_shop_lag_2', 'price_shop_lag_2', 'sales_item_lag_2',\n",
       "       'price_item_lag_2', 'sales_itcat_lag_2', 'price_itcat_lag_2',\n",
       "       'cnt_shop_item_lag_1', 'cnt_shop_lag_1', 'cnt_item_lag_1',\n",
       "       'cnt_itcat_lag_1', 'cnt_shop_item_lag_2', 'cnt_shop_lag_2',\n",
       "       'cnt_item_lag_2', 'cnt_itcat_lag_2', 'cnt_shop_item_lag_3',\n",
       "       'cnt_shop_lag_3', 'cnt_item_lag_3', 'cnt_itcat_lag_3',\n",
       "       'cnt_shop_item_lag_4', 'cnt_shop_lag_4', 'cnt_item_lag_4',\n",
       "       'cnt_itcat_lag_4', 'cnt_shop_item_lag_5', 'cnt_shop_lag_5',\n",
       "       'cnt_item_lag_5', 'cnt_itcat_lag_5', 'cnt_shop_item_lag_6',\n",
       "       'cnt_shop_lag_6', 'cnt_item_lag_6', 'cnt_itcat_lag_6',\n",
       "       'cnt_shop_item_lag_12', 'cnt_shop_lag_12', 'cnt_item_lag_12',\n",
       "       'cnt_itcat_lag_12'],\n",
       "      dtype='object')"
      ]
     },
     "execution_count": 23,
     "metadata": {},
     "output_type": "execute_result"
    }
   ],
   "source": [
    "lag_df.columns"
   ]
  },
  {
   "cell_type": "markdown",
   "metadata": {},
   "source": [
    "Exploiting text features in item category and item names"
   ]
  },
  {
   "cell_type": "code",
   "execution_count": 24,
   "metadata": {
    "collapsed": true
   },
   "outputs": [],
   "source": [
    "n_comp = 5"
   ]
  },
  {
   "cell_type": "code",
   "execution_count": 25,
   "metadata": {
    "collapsed": true
   },
   "outputs": [],
   "source": [
    "text_feat = ['item_id', 'item_category_id']\n",
    "if 'item_id' in text_feat:\n",
    "    text_df = items[['item_name', 'item_id']].copy()\n",
    "    tv = TfidfVectorizer()\n",
    "    tv_df = tv.fit_transform(text_df['item_name'])\n",
    "    svd = TruncatedSVD(n_components=n_comp, random_state = 24)\n",
    "    svd_df = svd.fit_transform(tv_df)\n",
    "    svd_df = pd.DataFrame(data = svd_df, columns = ['item_name_' + str(i) for i in np.arange(1,n_comp+1)])\n",
    "    item_name_df = pd.concat((text_df['item_id'], svd_df), axis = 1)\n",
    "if 'item_category_id' in text_feat:\n",
    "    text_df = item_categories.copy()\n",
    "    tv = TfidfVectorizer()\n",
    "    tv_df = tv.fit_transform(text_df['item_category_name'])\n",
    "    svd = TruncatedSVD(n_components=n_comp, random_state = 24)\n",
    "    svd_df = svd.fit_transform(tv_df)\n",
    "    svd_df = pd.DataFrame(data = svd_df, columns = ['item_category_name_' + str(i) for i in np.arange(1,n_comp+1)])\n",
    "    item_category_name_df = pd.concat((text_df['item_category_id'], svd_df), axis = 1)\n",
    "del tv_df, svd_df, text_df, svd, tv"
   ]
  },
  {
   "cell_type": "code",
   "execution_count": 26,
   "metadata": {
    "collapsed": true
   },
   "outputs": [],
   "source": [
    "text_df = grouped_data[['date_block_num', 'shop_id', 'item_id', 'item_category_id']].copy()\n",
    "text_df = text_df.merge(item_name_df, on = 'item_id', how = 'left')\n",
    "text_df = text_df.merge(item_category_name_df, on = 'item_category_id', how = 'left')"
   ]
  },
  {
   "cell_type": "code",
   "execution_count": 27,
   "metadata": {},
   "outputs": [
    {
     "data": {
      "text/plain": [
       "Index(['date_block_num', 'shop_id', 'item_id', 'item_name_1', 'item_name_2',\n",
       "       'item_name_3', 'item_name_4', 'item_name_5', 'item_category_name_1',\n",
       "       'item_category_name_2', 'item_category_name_3', 'item_category_name_4',\n",
       "       'item_category_name_5'],\n",
       "      dtype='object')"
      ]
     },
     "execution_count": 27,
     "metadata": {},
     "output_type": "execute_result"
    }
   ],
   "source": [
    "text_df.drop('item_category_id', axis = 1, inplace = True)\n",
    "text_df.columns"
   ]
  },
  {
   "cell_type": "code",
   "execution_count": 28,
   "metadata": {},
   "outputs": [
    {
     "name": "stdout",
     "output_type": "stream",
     "text": [
      "(1823324, 18)\n",
      "(1823324, 23)\n",
      "(1823324, 47)\n",
      "(1823324, 13)\n"
     ]
    }
   ],
   "source": [
    "for df in [grouped_data, enc_df, lag_df, text_df]:\n",
    "    print(df.shape)"
   ]
  },
  {
   "cell_type": "markdown",
   "metadata": {},
   "source": [
    "Merging all the datasets to create the full set"
   ]
  },
  {
   "cell_type": "code",
   "execution_count": 29,
   "metadata": {
    "collapsed": true
   },
   "outputs": [],
   "source": [
    "full_data = grouped_data.copy()\n",
    "key_feat = ['date_block_num', 'shop_id', 'item_id']\n",
    "df = [enc_df, lag_df, text_df]\n",
    "for i in df:\n",
    "    full_data = full_data.merge(i, on = key_feat, how = 'left')"
   ]
  },
  {
   "cell_type": "code",
   "execution_count": 30,
   "metadata": {},
   "outputs": [
    {
     "data": {
      "text/plain": [
       "(1823324, 92)"
      ]
     },
     "execution_count": 30,
     "metadata": {},
     "output_type": "execute_result"
    }
   ],
   "source": [
    "full_data.shape"
   ]
  },
  {
   "cell_type": "code",
   "execution_count": 31,
   "metadata": {},
   "outputs": [
    {
     "data": {
      "text/plain": [
       "0"
      ]
     },
     "execution_count": 31,
     "metadata": {},
     "output_type": "execute_result"
    }
   ],
   "source": [
    "full_data.isnull().sum().sum()"
   ]
  },
  {
   "cell_type": "code",
   "execution_count": 32,
   "metadata": {
    "collapsed": true
   },
   "outputs": [],
   "source": [
    "del grouped_data, enc_df, lag_df, text_df"
   ]
  },
  {
   "cell_type": "markdown",
   "metadata": {},
   "source": [
    "Dropping non required columns"
   ]
  },
  {
   "cell_type": "code",
   "execution_count": 33,
   "metadata": {
    "collapsed": true
   },
   "outputs": [],
   "source": [
    "to_drop = ['sales_shop_item', 'price_shop_item', 'cnt_shop', 'sales_shop', 'price_shop', 'cnt_item', 'sales_item', 'price_item',\n",
    "           'cnt_itcat', 'sales_itcat', 'price_itcat']\n",
    "full_data.drop(to_drop, axis=1, inplace = True)"
   ]
  },
  {
   "cell_type": "code",
   "execution_count": 34,
   "metadata": {},
   "outputs": [
    {
     "data": {
      "text/plain": [
       "(1823324, 81)"
      ]
     },
     "execution_count": 34,
     "metadata": {},
     "output_type": "execute_result"
    }
   ],
   "source": [
    "full_data.shape"
   ]
  },
  {
   "cell_type": "code",
   "execution_count": 36,
   "metadata": {
    "collapsed": true
   },
   "outputs": [],
   "source": [
    "full_data = downcast_dtypes(full_data)"
   ]
  },
  {
   "cell_type": "code",
   "execution_count": 37,
   "metadata": {
    "collapsed": true
   },
   "outputs": [],
   "source": [
    "with open('full_data_2.pkl', 'wb') as handle:  \n",
    "    pickle.dump(full_data,handle,protocol=-1)"
   ]
  }
 ],
 "metadata": {
  "kernelspec": {
   "display_name": "Python 3",
   "language": "python",
   "name": "python3"
  },
  "language_info": {
   "codemirror_mode": {
    "name": "ipython",
    "version": 3
   },
   "file_extension": ".py",
   "mimetype": "text/x-python",
   "name": "python",
   "nbconvert_exporter": "python",
   "pygments_lexer": "ipython3",
   "version": "3.6.2"
  }
 },
 "nbformat": 4,
 "nbformat_minor": 2
}
